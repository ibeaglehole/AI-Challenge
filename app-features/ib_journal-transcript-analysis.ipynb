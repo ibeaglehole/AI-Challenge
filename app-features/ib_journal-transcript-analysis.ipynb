{
 "cells": [
  {
   "cell_type": "markdown",
   "metadata": {},
   "source": [
    "# Journal Transcript Analysis"
   ]
  },
  {
   "cell_type": "markdown",
   "metadata": {},
   "source": [
    "Journal entry is converted from speech-to-text and then analysed:\n",
    "- Short summary of entry\n",
    "- Tags extracted for topics discussed\n",
    "- Key emotions detected"
   ]
  },
  {
   "cell_type": "markdown",
   "metadata": {},
   "source": [
    "A local file, **api_keys.py**, is required in the same directory as the notebook which contains variables with the api keys associated with the different services. You will need to create accounts with [AssemblyAI](https://www.assemblyai.com) and [OpenAI](https://openai.com) to get the api keys.\n",
    "\n",
    "Current **api_keys.py** file contains:\n",
    "\n",
    "aai_api_key = {YOUR_ASSEMBLYAI_API_KEY}\n",
    "\n",
    "openai_api_key = {YOUR_OPENAI_API_KEY}\n",
    "\n",
    "You will also need install these packages:\n",
    "- assemblyai\n",
    "- langchain_community"
   ]
  },
  {
   "cell_type": "code",
   "execution_count": 1,
   "metadata": {},
   "outputs": [],
   "source": [
    "import assemblyai as aai\n",
    "from langchain_community.document_loaders import AssemblyAIAudioTranscriptLoader\n",
    "from api_keys import aai_api_key, openai_api_key"
   ]
  },
  {
   "cell_type": "code",
   "execution_count": 2,
   "metadata": {},
   "outputs": [],
   "source": [
    "# test journal stored under the filename \"test_journal.m4a\"\n",
    "audio_file = \"test_journal.m4a\"\n",
    "\n",
    "# configuration for the model performing the transcription\n",
    "config = aai.TranscriptionConfig(\n",
    "    sentiment_analysis = True,\n",
    "    summarization=True\n",
    ")"
   ]
  },
  {
   "cell_type": "code",
   "execution_count": 4,
   "metadata": {},
   "outputs": [],
   "source": [
    "loader = AssemblyAIAudioTranscriptLoader(file_path=audio_file,\n",
    "                                         api_key=aai_api_key,\n",
    "                                         config=config)\n",
    "docs = loader.load()"
   ]
  },
  {
   "cell_type": "code",
   "execution_count": 5,
   "metadata": {},
   "outputs": [
    {
     "data": {
      "text/plain": [
       "\"You. My parents used to say college is a new world. It's a new experience. At this moment I can say I am satisfied and proud to have taken the decision to study. College opened doors to many opportunities and adventures that I still have yet to live and discover. I'm excited to meet each and one of my professors and know what challenges each of my classes will bring. I know for now that it will be an unforgettable experience. However, knowing how anxious I am to experience each of these adventures, I think I still have things to learn, fix and understand. I'm a very shy person and I hate talking in front of people. Also, I have a hard time keeping up with professors and understanding what I read. There are many things I have to fix but that doesn't limit me to try and give my best. I know that with God's help and my family I accomplish. I will accomplish this and more.\""
      ]
     },
     "execution_count": 5,
     "metadata": {},
     "output_type": "execute_result"
    }
   ],
   "source": [
    "docs[0].page_content\n",
    "# docs[0].metadata['audio_duration']\n",
    "# docs[0].metadata['confidence']\n",
    "# docs[0].metadata['words'][0]\n",
    "# docs[0].metadata['summary']\n",
    "# docs[0].metadata['sentiment_analysis_results'][7]"
   ]
  },
  {
   "cell_type": "code",
   "execution_count": 5,
   "metadata": {},
   "outputs": [
    {
     "name": "stdout",
     "output_type": "stream",
     "text": [
      "7 3 3\n"
     ]
    }
   ],
   "source": [
    "pos, neu, neg = 0, 0, 0\n",
    "\n",
    "# docs[0].metadata['sentiment_analysis']\n",
    "for i in docs[0].metadata['sentiment_analysis_results']:\n",
    "    sentiment = i['sentiment'].value\n",
    "    if sentiment == \"POSITIVE\":\n",
    "        pos += 1\n",
    "    elif sentiment == \"NEUTRAL\":\n",
    "        neu += 1\n",
    "    elif sentiment == \"NEGATIVE\":\n",
    "        neg += 1\n",
    "\n",
    "print(pos, neu, neg)"
   ]
  },
  {
   "cell_type": "markdown",
   "metadata": {},
   "source": [
    "---\n",
    "Using AssemblyAI API directly, rather than through LangChain"
   ]
  },
  {
   "cell_type": "code",
   "execution_count": 6,
   "metadata": {},
   "outputs": [],
   "source": [
    "aai.settings.api_key = aai_api_key\n",
    "\n",
    "transcriber = aai.Transcriber()\n",
    "transcript = transcriber.transcribe(audio_file, config)"
   ]
  },
  {
   "cell_type": "code",
   "execution_count": 13,
   "metadata": {},
   "outputs": [],
   "source": [
    "# transcript.text\n",
    "# transcript.words\n",
    "# transcript.sentiment_analysis\n",
    "# transcript.summary"
   ]
  },
  {
   "cell_type": "code",
   "execution_count": null,
   "metadata": {},
   "outputs": [],
   "source": [
    "# use lemur llm from AssemblyAI to summarise the transcript into emotions - have to pay to use api\n",
    "result = transcript.lemur.task(\n",
    "    prompt=\"Summarise the feelings in this transcript into a few key words\",\n",
    "    temperature=0.5\n",
    ")"
   ]
  },
  {
   "cell_type": "code",
   "execution_count": null,
   "metadata": {},
   "outputs": [],
   "source": [
    "# possible to remove all data relating to request - good for controlling data\n",
    "aai.Lemur.purge_request_data(result.request_id)"
   ]
  },
  {
   "cell_type": "markdown",
   "metadata": {},
   "source": [
    "---\n",
    "Using OpenAI API\n"
   ]
  },
  {
   "cell_type": "code",
   "execution_count": 12,
   "metadata": {},
   "outputs": [],
   "source": [
    "from openai import OpenAI"
   ]
  },
  {
   "cell_type": "code",
   "execution_count": null,
   "metadata": {},
   "outputs": [],
   "source": [
    "client = OpenAI(api_key=openai_api_key)"
   ]
  },
  {
   "cell_type": "code",
   "execution_count": 30,
   "metadata": {},
   "outputs": [],
   "source": [
    "journal = open(audio_file, \"rb\")\n",
    "transcription = client.audio.transcriptions.create(\n",
    "  model=\"whisper-1\", \n",
    "  file=journal, \n",
    "  response_format=\"text\"\n",
    ")"
   ]
  },
  {
   "cell_type": "code",
   "execution_count": 15,
   "metadata": {},
   "outputs": [
    {
     "name": "stdout",
     "output_type": "stream",
     "text": [
      "My parents used to say, college is a new world, it's a new experience. At this moment I can say I am satisfied and proud to have taken the decision to study. College opened doors to many opportunities and adventures that I still have yet to live and discover. I'm excited to meet each and one of my professors and know what challenges each of my classes will bring. I know for now that it will be an unforgettable experience. However, knowing how anxious I am to experience each of these adventures, I think I still have things to learn, fix and understand. I'm a very shy person and I hate talking in front of people. Also, I have a hard time keeping up with professors and understanding what I read. There are many things I have to fix, but that doesn't limit me to try and give my best. I know that with God's help and my family I will accomplish this and more.\n",
      "\n"
     ]
    }
   ],
   "source": [
    "print(transcription)"
   ]
  },
  {
   "cell_type": "code",
   "execution_count": 9,
   "metadata": {},
   "outputs": [
    {
     "data": {
      "text/plain": [
       "'\\n\\nThe author expresses their satisfaction and pride in their decision to study in college, as it has opened doors to new opportunities and adventures. They are excited to meet their professors and face the challenges of their classes, but also acknowledge their shyness and struggles with public speaking and understanding material. However, they are determined to overcome these obstacles with the help of God and their family.'"
      ]
     },
     "execution_count": 9,
     "metadata": {},
     "output_type": "execute_result"
    }
   ],
   "source": [
    "prompt=f\"Summarise the following journal transcript into a few sentences\"\n",
    "\n",
    "llm.invoke(\n",
    "    input = f\"{prompt} : {docs[0].page_content}\"\n",
    ")"
   ]
  },
  {
   "cell_type": "code",
   "execution_count": 16,
   "metadata": {},
   "outputs": [],
   "source": [
    "response = client.chat.completions.create(\n",
    "  model=\"gpt-3.5-turbo\",\n",
    "  messages=[\n",
    "    {\"role\": \"system\", \"content\": \"You are a helpful assistant, analysing journal entries to help users understand \\\n",
    "    feelings they might be experiencing.\"},\n",
    "    {\"role\": \"user\", \"content\": f\"{prompt} : {transcription}\"} # docs[0].page_content\n",
    "  ]\n",
    ")"
   ]
  },
  {
   "cell_type": "code",
   "execution_count": 29,
   "metadata": {},
   "outputs": [
    {
     "data": {
      "text/plain": [
       "'The writer reflects on the excitement and pride of entering college, seeing it as a new world full of opportunities and challenges. They express eagerness to meet professors and face the adventures ahead, but also acknowledge feelings of anxiety, shyness, and struggles with public speaking and academics. Despite these challenges, they are determined to overcome them with the support of their family and faith in their abilities.'"
      ]
     },
     "execution_count": 29,
     "metadata": {},
     "output_type": "execute_result"
    }
   ],
   "source": [
    "response.choices[0].message.content"
   ]
  },
  {
   "cell_type": "code",
   "execution_count": 39,
   "metadata": {},
   "outputs": [],
   "source": [
    "prompt=f\"Summarise the feelings in the following transcript into the three key emotions. The output should be a list of \\\n",
    "    single emotions only.\"\n",
    "\n",
    "response = client.chat.completions.create(\n",
    "  model=\"gpt-3.5-turbo\",\n",
    "  messages=[\n",
    "    {\"role\": \"system\", \"content\": \"You are a helpful assistant, analysing journal entries to help users understand \\\n",
    "    feelings they might be experiencing.\"},\n",
    "    {\"role\": \"user\", \"content\": f\"{prompt} : {transcription}\"} # docs[0].page_content\n",
    "  ]\n",
    ")"
   ]
  },
  {
   "cell_type": "code",
   "execution_count": 40,
   "metadata": {},
   "outputs": [
    {
     "data": {
      "text/plain": [
       "'- Satisfaction\\n- Excitement\\n- Anxious'"
      ]
     },
     "execution_count": 40,
     "metadata": {},
     "output_type": "execute_result"
    }
   ],
   "source": [
    "response.choices[0].message.content"
   ]
  },
  {
   "cell_type": "code",
   "execution_count": 43,
   "metadata": {},
   "outputs": [],
   "source": [
    "prompt=f\"Extract three tags from the following transcript which are not emotions. The output should be a list of single keywords \\\n",
    "    regarding what the user is talking about. For example, if the user was talking about a time when they went skiing, holiday \\\n",
    "        and skiing might be two of the keywords returned.\"\n",
    "\n",
    "response = client.chat.completions.create(\n",
    "  model=\"gpt-3.5-turbo\",\n",
    "  messages=[\n",
    "    {\"role\": \"system\", \"content\": \"You are a helpful assistant, analysing journal entries to help users understand \\\n",
    "    feelings they might be experiencing.\"},\n",
    "    {\"role\": \"user\", \"content\": f\"{prompt} : {transcription}\"} # docs[0].page_content\n",
    "  ]\n",
    ")"
   ]
  },
  {
   "cell_type": "code",
   "execution_count": 44,
   "metadata": {},
   "outputs": [
    {
     "data": {
      "text/plain": [
       "'1. College\\n2. Challenges\\n3. Opportunities'"
      ]
     },
     "execution_count": 44,
     "metadata": {},
     "output_type": "execute_result"
    }
   ],
   "source": [
    "response.choices[0].message.content"
   ]
  },
  {
   "cell_type": "markdown",
   "metadata": {},
   "source": [
    "---"
   ]
  }
 ],
 "metadata": {
  "kernelspec": {
   "display_name": "Python 3",
   "language": "python",
   "name": "python3"
  },
  "language_info": {
   "codemirror_mode": {
    "name": "ipython",
    "version": 3
   },
   "file_extension": ".py",
   "mimetype": "text/x-python",
   "name": "python",
   "nbconvert_exporter": "python",
   "pygments_lexer": "ipython3",
   "version": "3.12.2"
  }
 },
 "nbformat": 4,
 "nbformat_minor": 2
}
