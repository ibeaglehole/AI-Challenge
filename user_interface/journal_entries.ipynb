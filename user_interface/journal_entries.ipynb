{
 "cells": [
  {
   "cell_type": "code",
   "execution_count": 1,
   "metadata": {},
   "outputs": [],
   "source": [
    "import pickle\n"
   ]
  },
  {
   "cell_type": "code",
   "execution_count": 2,
   "metadata": {},
   "outputs": [],
   "source": [
    "filename = 'history/emotions_data_2024-04-08.pkl'\n",
    "\n",
    "with open(filename, 'rb') as f:\n",
    "    loaded_data = pickle.load(f)\n",
    "\n",
    "top_emot = loaded_data['top_emotions']\n",
    "emot_prob = loaded_data['emotion_prob']"
   ]
  },
  {
   "cell_type": "code",
   "execution_count": 3,
   "metadata": {},
   "outputs": [
    {
     "data": {
      "text/plain": [
       "['sad', 'calm', 'neutral']"
      ]
     },
     "execution_count": 3,
     "metadata": {},
     "output_type": "execute_result"
    }
   ],
   "source": [
    "top_emot"
   ]
  },
  {
   "cell_type": "code",
   "execution_count": 4,
   "metadata": {},
   "outputs": [
    {
     "data": {
      "text/plain": [
       "{'sad': 1.0,\n",
       " 'calm': 1.5786405960070763e-38,\n",
       " 'neutral': 3.961737534814297e-158,\n",
       " 'angry': 0.0,\n",
       " 'disgust': 0.0,\n",
       " 'fearful': 0.0,\n",
       " 'happy': 0.0,\n",
       " 'surprised': 0.0}"
      ]
     },
     "execution_count": 4,
     "metadata": {},
     "output_type": "execute_result"
    }
   ],
   "source": [
    "emot_prob"
   ]
  },
  {
   "cell_type": "markdown",
   "metadata": {},
   "source": [
    "## Writing New Emotions Data\n",
    "\n",
    "For demonstration purposes only. This is not real data."
   ]
  },
  {
   "cell_type": "markdown",
   "metadata": {},
   "source": [
    "**A happy journal entry**"
   ]
  },
  {
   "cell_type": "code",
   "execution_count": 5,
   "metadata": {},
   "outputs": [],
   "source": [
    "transcript = \"\"\"\n",
    "Today was awesome, plain and simple. Work was surprisingly good. I managed to get a lot done and felt pretty \n",
    "proud of myself for it. It's amazing how a productive day can put you in such a good mood. And then, in the\n",
    "evening, I got to hang out with my friends. Man, it was exactly what I needed. We laughed so much, just talking \n",
    "about everything and nothing. It's crazy how being around good friends can lift your spirits like nothing else.\n",
    "We shared stories, cracked jokes, and just enjoyed each other's company. Those moments make me realize how lucky \n",
    "I am to have such great people in my life. It's the little things like this that really make life special. Now, \n",
    "as I wind down for the night, I'm feeling grateful for today. Grateful for the good times, the good people, and \n",
    "the good vibes. It's been a day to remember, and I'm going to bed with a smile on my face, looking forward to \n",
    "whatever tomorrow brings.\n",
    "\"\"\"\n",
    "\n",
    "summary = \"\"\"\n",
    "In this journal entry, you look back on a day filled with productivity and happiness. Work was successful, and you \n",
    "felt motivated to complete tasks, leading to a sense of accomplishment. Spending time with friends in the evening \n",
    "brought joy, as you shared laughter and stories, strengthening your bonds. Reflecting on the day fills you with \n",
    "ratitude for the fulfilling experiences and the people who bring happiness into your life. You end the day content, \n",
    "ready to face whatever tomorrow holds.\n",
    "\"\"\"\n",
    "\n",
    "emotion_prob = {\n",
    "    'sad': 0.0,\n",
    "    'calm': 0.15,\n",
    "    'neutral': 0.1,\n",
    "    'angry': 0.0,\n",
    "    'disgust': 0.0,\n",
    "    'fearful': 0.0,\n",
    "    'happy': 0.75,\n",
    "    'surprised': 0.0\n",
    "}\n",
    "\n",
    "\n",
    "sorted_emotions = sorted(emotion_prob, key=emotion_prob.get, reverse=True)\n",
    "top_emotions = sorted_emotions[:3]\n",
    "\n",
    "emot_f = f'history/emotions_data_2024-04-01.pkl'\n",
    "\n",
    "data_to_store = {'transcript': transcript, 'summary': summary, 'top_emotions': top_emotions, 'emotion_prob': emotion_prob}\n",
    "\n",
    "with open(emot_f, 'wb') as f:\n",
    "    pickle.dump(data_to_store, f)"
   ]
  },
  {
   "cell_type": "markdown",
   "metadata": {},
   "source": [
    "**Another happy journal entry**"
   ]
  },
  {
   "cell_type": "code",
   "execution_count": 6,
   "metadata": {},
   "outputs": [],
   "source": [
    "transcript = \"\"\"\n",
    "Today was amazing, just what I needed. Me and my partner went hiking, and it was so chill. We breathed in that \n",
    "fresh air, listened to the birds, and forgot about everything else. At the top, the view was insane, like something \n",
    "out of a movie. When we got back, we decided to cook up a storm and made a roast dinner together. The smell in the \n",
    "kitchen was unreal. We laughed, joked around, and stuffed ourselves silly. Now, I'm sitting here feeling so darn happy \n",
    "and relaxed. Today was proof that the simple things are the best things. Can't wait to hit the hay and do it all again \n",
    "tomorrow.\n",
    "\"\"\"\n",
    "\n",
    "summary = \"\"\"\n",
    "In this journal entry, you recount a fantastic day spent hiking with your partner. The hike was refreshing and peaceful, \n",
    "allowing you both to unwind and enjoy nature's beauty. Upon returning home, you cooked a delicious roast dinner together, \n",
    "filled with laughter and joy. Now, reflecting on the day, you feel immensely happy and relaxed, appreciating the simplicity \n",
    "and joy of spending quality time with loved ones. You look forward to more moments like this in the future.\n",
    "\"\"\"\n",
    "\n",
    "emotion_prob = {\n",
    "    'sad': 0.0,\n",
    "    'calm': 0.35,\n",
    "    'neutral': 0.05,\n",
    "    'angry': 0.0,\n",
    "    'disgust': 0.0,\n",
    "    'fearful': 0.0,\n",
    "    'happy': 0.6,\n",
    "    'surprised': 0.0\n",
    "}\n",
    "\n",
    "\n",
    "sorted_emotions = sorted(emotion_prob, key=emotion_prob.get, reverse=True)\n",
    "top_emotions = sorted_emotions[:3]\n",
    "\n",
    "emot_f = f'history/emotions_data_2024-04-02.pkl'\n",
    "\n",
    "data_to_store = {'transcript': transcript, 'summary': summary, 'top_emotions': top_emotions, 'emotion_prob': emotion_prob}\n",
    "\n",
    "with open(emot_f, 'wb') as f:\n",
    "    pickle.dump(data_to_store, f)"
   ]
  },
  {
   "cell_type": "markdown",
   "metadata": {},
   "source": [
    "**An angry journal entry**"
   ]
  },
  {
   "cell_type": "code",
   "execution_count": 7,
   "metadata": {},
   "outputs": [],
   "source": [
    "transcript = \"\"\"\n",
    "Today sucked, plain and simple. Work was a nightmare. My colleagues dropped the ball big time, leaving me to pick up \n",
    "the pieces and take the blame for their screw-ups. I busted my butt trying to get things done on time, but it felt like \n",
    "swimming against a tide of incompetence. And to top it all off, the traffic on the way home was a nightmare. I sat in \n",
    "my car for what felt like hours, inching along like a snail. It was infuriating, knowing that every second wasted in \n",
    "that jam was another moment stolen from my evening. By the time I got home, I was fuming. The frustration from work and \n",
    "the never-ending traffic had me seeing red. I wanted to scream, to punch something, to just make it all go away. Now, as \n",
    "I sit here trying to unwind, I can still feel that anger simmering beneath the surface. It's like a pressure cooker ready \n",
    "to explode. But I know I need to find a way to let it go, to shake off the bad vibes and start fresh tomorrow. Easier said\n",
    "than done, but I'll give it my best shot.\n",
    "\"\"\"\n",
    "\n",
    "summary = \"\"\"\n",
    "In this journal entry, you recount a frustrating day filled with work troubles and traffic woes. Your colleagues' \n",
    "incompetence at work added to your stress, leaving you to shoulder the blame for their mistakes. The aggravation peaked \n",
    "during your grueling commute home, where you spent what felt like an eternity stuck in traffic. By the time you arrived \n",
    "home, you were seething with anger and frustration, yearning for a release. Now, as you reflect on the day's events, you \n",
    "acknowledge the simmering anger within you and resolve to find a way to let it go, hoping for a fresh start tomorrow \n",
    "despite the challenges.\n",
    "\"\"\"\n",
    "\n",
    "emotion_prob = {\n",
    "    'sad': 0.05,\n",
    "    'calm': 0.0,\n",
    "    'neutral': 0.0,\n",
    "    'angry': 0.55,\n",
    "    'disgust': 0.4,\n",
    "    'fearful': 0.0,\n",
    "    'happy': 0.0,\n",
    "    'surprised': 0.0\n",
    "}\n",
    "\n",
    "\n",
    "sorted_emotions = sorted(emotion_prob, key=emotion_prob.get, reverse=True)\n",
    "top_emotions = sorted_emotions[:3]\n",
    "\n",
    "emot_f = f'history/emotions_data_2024-04-04.pkl'\n",
    "\n",
    "data_to_store = {'transcript': transcript, 'summary': summary, 'top_emotions': top_emotions, 'emotion_prob': emotion_prob}\n",
    "\n",
    "with open(emot_f, 'wb') as f:\n",
    "    pickle.dump(data_to_store, f)"
   ]
  },
  {
   "cell_type": "markdown",
   "metadata": {},
   "source": [
    "**A sad journal entry**"
   ]
  },
  {
   "cell_type": "code",
   "execution_count": 8,
   "metadata": {},
   "outputs": [],
   "source": [
    "transcript = \"\"\"\n",
    "Today was a real downer, to be honest. Work dragged on forever, and it felt like one of those days where nothing goes \n",
    "right. On top of that, the weather was just miserable – all grey skies and relentless rain. It matched my mood perfectly.\n",
    "To make matters worse, I was really looking forward to booking a holiday to get away from it all. But when I finally got \n",
    "around to it, all the spots for the dates I wanted were already taken. Talk about a punch to the gut. I can't shake this \n",
    "feeling of disappointment and sadness hanging over me like a dark cloud. It's like the universe is playing a cruel joke \n",
    "on me, piling on one bad thing after another. As I sit here, staring out the window at the dreary rain, I can't help but \n",
    "feel a heaviness in my chest. It's moments like these when it feels like everything's just too much to bear. But I know \n",
    "tomorrow's a new day, and maybe things will look a little brighter then. Here's hoping, anyway.\n",
    "\"\"\"\n",
    "\n",
    "summary = \"\"\"\n",
    "In this journal entry, you recount a challenging day where everything seemed to go wrong. Work was tiresome, compounded by \n",
    "gloomy weather that matched your mood. Additionally, the disappointment of not being able to book a holiday added to your \n",
    "sadness. You express feeling overwhelmed by a sense of disappointment and heaviness, as if the universe is conspiring against \n",
    "you. Despite the difficulties, you hold onto hope for a better tomorrow.\n",
    "\"\"\"\n",
    "\n",
    "emotion_prob = {\n",
    "    'sad': 0.75,\n",
    "    'calm': 0.0,\n",
    "    'neutral': 0.15,\n",
    "    'angry': 0.0,\n",
    "    'disgust': 0.0,\n",
    "    'fearful': 0.1,\n",
    "    'happy': 0.0,\n",
    "    'surprised': 0.0\n",
    "}\n",
    "\n",
    "\n",
    "sorted_emotions = sorted(emotion_prob, key=emotion_prob.get, reverse=True)\n",
    "top_emotions = sorted_emotions[:3]\n",
    "\n",
    "emot_f = f'history/emotions_data_2024-04-06.pkl'\n",
    "\n",
    "data_to_store = {'transcript': transcript, 'summary': summary, 'top_emotions': top_emotions, 'emotion_prob': emotion_prob}\n",
    "\n",
    "with open(emot_f, 'wb') as f:\n",
    "    pickle.dump(data_to_store, f)"
   ]
  },
  {
   "cell_type": "markdown",
   "metadata": {},
   "source": [
    "**A calm journal entry**"
   ]
  },
  {
   "cell_type": "code",
   "execution_count": 9,
   "metadata": {},
   "outputs": [],
   "source": [
    "transcript = \"\"\"\n",
    "Today was like a breath of fresh air, a much-needed break from the chaos of everyday life. My partner and I treated ourselves\n",
    "to a relaxing spa day, and it was exactly what the doctor ordered. The soothing massages, rejuvenating facials, and tranquil\n",
    "ambiance melted away all the tension and stress that had been building up. As we lounged by the pool sipping herbal tea, I \n",
    "felt a sense of calm wash over me, like all my worries were being swept away by the gentle breeze. It was a rare moment of \n",
    "peace in a hectic world. What's more, while we were unwinding, we got some unexpected good news – there's an opening for the \n",
    "holiday we've been dreaming about! It was like winning the lottery, the excitement bubbling up inside me as I realized we might \n",
    "actually get to go after all. Feeling refreshed and rejuvenated, I can't help but look forward to the future with renewed optimism. \n",
    "Today reminded me of the importance of taking time for myself and appreciating the little moments of joy that life has to offer. \n",
    "Here's to more days like this in the future.\n",
    "\"\"\"\n",
    "\n",
    "summary = \"\"\"\n",
    "\n",
    "In this journal entry, you describe a wonderfully refreshing day filled with relaxation and unexpected good news. Treating yourself \n",
    "and your partner to a spa day provided a much-needed escape from the daily grind, melting away stress and tension. The calm ambiance \n",
    "and soothing treatments created a rare moment of peace amidst the chaos. Additionally, discovering an opening for your dream holiday \n",
    "filled you with excitement and optimism for the future. This experience served as a reminder of the importance of self-care and \n",
    "appreciating life's simple joys. You eagerly anticipate more days like this in the future.\n",
    "\"\"\"\n",
    "\n",
    "emotion_prob = {\n",
    "    'sad': 0.0,\n",
    "    'calm': 0.5,\n",
    "    'neutral': 0.0,\n",
    "    'angry': 0.0,\n",
    "    'disgust': 0.0,\n",
    "    'fearful': 0.0,\n",
    "    'happy': 0.3,\n",
    "    'surprised': 0.2\n",
    "}\n",
    "\n",
    "\n",
    "sorted_emotions = sorted(emotion_prob, key=emotion_prob.get, reverse=True)\n",
    "top_emotions = sorted_emotions[:3]\n",
    "\n",
    "emot_f = f'history/emotions_data_2024-04-08.pkl'\n",
    "\n",
    "data_to_store = {'transcript': transcript, 'summary': summary, 'top_emotions': top_emotions, 'emotion_prob': emotion_prob}\n",
    "\n",
    "with open(emot_f, 'wb') as f:\n",
    "    pickle.dump(data_to_store, f)"
   ]
  }
 ],
 "metadata": {
  "kernelspec": {
   "display_name": ".venv",
   "language": "python",
   "name": "python3"
  },
  "language_info": {
   "codemirror_mode": {
    "name": "ipython",
    "version": 3
   },
   "file_extension": ".py",
   "mimetype": "text/x-python",
   "name": "python",
   "nbconvert_exporter": "python",
   "pygments_lexer": "ipython3",
   "version": "3.12.2"
  }
 },
 "nbformat": 4,
 "nbformat_minor": 2
}
